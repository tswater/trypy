{
 "cells": [
  {
   "cell_type": "markdown",
   "metadata": {},
   "source": [
    "# Final Project"
   ]
  },
  {
   "cell_type": "markdown",
   "metadata": {},
   "source": [
    "1. Extracting the data sets "
   ]
  },
  {
   "cell_type": "code",
   "execution_count": 6,
   "metadata": {},
   "outputs": [],
   "source": [
    "import rasterio\n",
    "import numpy as np "
   ]
  },
  {
   "cell_type": "code",
   "execution_count": null,
   "metadata": {},
   "outputs": [
    {
     "name": "stdout",
     "output_type": "stream",
     "text": [
      "<class 'int'>\n",
      "<class 'int'>\n",
      "<class 'int'>\n",
      "<class 'int'>\n",
      "<class 'int'>\n",
      "<class 'int'>\n",
      "<class 'int'>\n",
      "<class 'int'>\n"
     ]
    }
   ],
   "source": [
    "# import the bioclim files \n",
    "\n",
    "file = '/shared_space/trypy/BioClimp.tif'\n",
    "#Open up access to the file\n",
    "fp = rasterio.open(file)\n",
    "\n",
    "data = np.zeros((20,2707,6362)) # the size of the fp is used \n",
    "\n",
    "for i in range(20):\n",
    "    print(type(i))\n",
    "    data[i,:,:] = fp.read(i+1)\n",
    "fp.close()   "
   ]
  },
  {
   "cell_type": "code",
   "execution_count": 1,
   "metadata": {},
   "outputs": [
    {
     "ename": "NameError",
     "evalue": "name 'fp' is not defined",
     "output_type": "error",
     "traceback": [
      "\u001b[0;31m\u001b[0m",
      "\u001b[0;31mNameError\u001b[0mTraceback (most recent call last)",
      "\u001b[0;32m<ipython-input-1-7ebc0d5eba40>\u001b[0m in \u001b[0;36m<module>\u001b[0;34m\u001b[0m\n\u001b[0;32m----> 1\u001b[0;31m \u001b[0mfp\u001b[0m\u001b[0;34m.\u001b[0m\u001b[0mclose\u001b[0m\u001b[0;34m(\u001b[0m\u001b[0;34m)\u001b[0m\u001b[0;34m\u001b[0m\u001b[0;34m\u001b[0m\u001b[0m\n\u001b[0m",
      "\u001b[0;31mNameError\u001b[0m: name 'fp' is not defined"
     ]
    }
   ],
   "source": []
  },
  {
   "cell_type": "code",
   "execution_count": 48,
   "metadata": {},
   "outputs": [],
   "source": [
    "# import \n",
    "# file = '/shared_space/trypy/BioClimp.tif'\n",
    "# file = '/shared_space/trypy/nlcd2016.tif'\n",
    "# file = '/shared_space/trypy/sand_mean_rootzone.tif'\n",
    "# file = '/shared_space/trypy/trydata.h5'\n",
    "# file = '/shared_space/trypy/clay_mean_rootzone.tif'\n",
    "# file = '/shared_space/trypy/NED.vrt'\n",
    "# file = '/shared_space/trypy/om_mean_surface.tif '\n",
    "# file = '/shared_space/trypy/silt_mean_rootzone.tif'"
   ]
  },
  {
   "cell_type": "code",
   "execution_count": 2,
   "metadata": {},
   "outputs": [
    {
     "name": "stdout",
     "output_type": "stream",
     "text": [
      "(2707, 6362)\n",
      "(2707, 6362)\n"
     ]
    }
   ],
   "source": [
    "# dem data \n",
    "file = '/shared_space/trypy/dem.tif'\n",
    "fp = rasterio.open(file)\n",
    "print(fp.shape)\n",
    "dem = fp.read(1)\n",
    "print(dem.shape)"
   ]
  },
  {
   "cell_type": "code",
   "execution_count": 3,
   "metadata": {},
   "outputs": [
    {
     "name": "stdout",
     "output_type": "stream",
     "text": [
      "(2707, 6362)\n"
     ]
    }
   ],
   "source": [
    "# nlcd206 data \n",
    "file = '/shared_space/trypy/nlcd2016.tif'\n",
    "fp = rasterio.open(file)\n",
    "nlcd = fp.read(1)\n",
    "print(nlcd.shape)\n"
   ]
  },
  {
   "cell_type": "code",
   "execution_count": 4,
   "metadata": {},
   "outputs": [
    {
     "name": "stdout",
     "output_type": "stream",
     "text": [
      "(2707, 6362)\n"
     ]
    }
   ],
   "source": [
    "# sand mean rootzone \n",
    "file = '/shared_space/trypy/sand_mean_rootzone.tif'\n",
    "fp = rasterio.open(file)\n",
    "sand = fp.read(1)\n",
    "print(sand.shape)"
   ]
  },
  {
   "cell_type": "code",
   "execution_count": 5,
   "metadata": {},
   "outputs": [
    {
     "name": "stdout",
     "output_type": "stream",
     "text": [
      "(2707, 6362)\n"
     ]
    }
   ],
   "source": [
    "# clay mean rootzone\n",
    "file = '/shared_space/trypy/clay_mean_rootzone.tif'\n",
    "fp = rasterio.open(file)\n",
    "clay = fp.read(1)\n",
    "print(clay.shape)"
   ]
  },
  {
   "cell_type": "code",
   "execution_count": 6,
   "metadata": {},
   "outputs": [
    {
     "name": "stdout",
     "output_type": "stream",
     "text": [
      "(2707, 6362)\n"
     ]
    }
   ],
   "source": [
    "# om mean surface\n",
    "file = '/shared_space/trypy/om_mean_surface.tif'\n",
    "fp = rasterio.open(file)\n",
    "om_mean = fp.read(1)\n",
    "print(om_mean.shape)"
   ]
  },
  {
   "cell_type": "code",
   "execution_count": 7,
   "metadata": {},
   "outputs": [
    {
     "name": "stdout",
     "output_type": "stream",
     "text": [
      "(2707, 6362)\n"
     ]
    }
   ],
   "source": [
    "# silt mean rootzone \n",
    "file = '/shared_space/trypy/silt_mean_rootzone.tif'\n",
    "fp = rasterio.open(file)\n",
    "silt = fp.read(1)\n",
    "print(silt.shape)"
   ]
  },
  {
   "cell_type": "code",
   "execution_count": 7,
   "metadata": {},
   "outputs": [
    {
     "name": "stdout",
     "output_type": "stream",
     "text": [
      "(2707, 6362)\n"
     ]
    }
   ],
   "source": [
    "# evi\n",
    "file = '/shared_space/trypy/evi.tif'\n",
    "fp = rasterio.open(file)\n",
    "evi = fp.read(1)\n",
    "print(evi.shape)"
   ]
  },
  {
   "cell_type": "code",
   "execution_count": null,
   "metadata": {},
   "outputs": [],
   "source": []
  }
 ],
 "metadata": {
  "kernelspec": {
   "display_name": "Python 3",
   "language": "python",
   "name": "python3"
  },
  "language_info": {
   "codemirror_mode": {
    "name": "ipython",
    "version": 3
   },
   "file_extension": ".py",
   "mimetype": "text/x-python",
   "name": "python",
   "nbconvert_exporter": "python",
   "pygments_lexer": "ipython3",
   "version": "3.7.3"
  }
 },
 "nbformat": 4,
 "nbformat_minor": 2
}
