{
 "cells": [
  {
   "cell_type": "code",
   "execution_count": null,
   "metadata": {},
   "outputs": [],
   "source": [
    "%matplotlib inline\n",
    "import matplotlib.pyplot as plt\n",
    "import sklearn.decomposition\n",
    "import numpy as np\n",
    "\n",
    "#standalization\n",
    "Xsites_std = (Xsites - np.mean(Xsites,axis=0))/np.std(Xsites,axis=0)\n",
    "\n",
    "#optimal number of components\n",
    "k= 20+7\n",
    "LIST=[]\n",
    "for i in range(k):\n",
    "    pca = sklearn.decomposition.PCA(n_components=i)\n",
    "    pca.fit(Xsites_std)\n",
    "    tmp= np.sum(pca.explained_variance_ratio_)\n",
    "    LIST.append(tmp)\n",
    "    \n",
    "x= np.linspace(1,k,k)\n",
    "plt.plot(x,LIST)\n",
    "plt.title('optimal PCA number')\n",
    "plt.xlabel('number of principle components')\n",
    "plt.ylabel('expalined variance ratio')\n",
    "plt.show()"
   ]
  },
  {
   "cell_type": "code",
   "execution_count": null,
   "metadata": {},
   "outputs": [],
   "source": [
    "#k optimal#\n",
    "\n",
    "Xsites_std_pca = pca.transform(Xsites_std)\n",
    "#Random Forest\n",
    "clf = sklearn.ensemble.RandomForestClassifier(random_state=1,n_estimators=100,oob_score=True)\n",
    "clf.fit(Xsites_std_pca,y)\n",
    "clf.oob_score_n"
   ]
  }
 ],
 "metadata": {
  "kernelspec": {
   "display_name": "Python 3",
   "language": "python",
   "name": "python3"
  },
  "language_info": {
   "codemirror_mode": {
    "name": "ipython",
    "version": 3
   },
   "file_extension": ".py",
   "mimetype": "text/x-python",
   "name": "python",
   "nbconvert_exporter": "python",
   "pygments_lexer": "ipython3",
   "version": "3.7.3"
  }
 },
 "nbformat": 4,
 "nbformat_minor": 2
}
