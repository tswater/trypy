{
 "cells": [
  {
   "cell_type": "markdown",
   "metadata": {},
   "source": [
    "Read in the TryData"
   ]
  },
  {
   "cell_type": "code",
   "execution_count": null,
   "metadata": {},
   "outputs": [],
   "source": [
    "# The bounding box for US\n",
    "top = 49.3457868 # north lat\n",
    "left = -124.7844079 # west long\n",
    "right = -66.9513812 # east long\n",
    "bottom =  24.7433195 # south lat\n",
    "\n",
    "# The File \n",
    "file = '/shared_space/trypy/trydata.h5'\n",
    "fp_try = h5py.File(file,'r')\n",
    "\n",
    "# Create US Only Mask\n",
    "lats = fp_try['lat'][:]\n",
    "lons = fp_try['lon'][:]\n",
    "mUS = (lats>bottom) & (lats<top) & (lons>left) & (lons<right)\n",
    "\n",
    "#Longname gives the long name for each trait in the h5 file\n",
    "longname={'SSD':'Stem Specific Density','h20_nosat':'Leaf H20 Content','leafC':'Leaf Carbon Content',\n",
    "          'leafCN':'Leaf C/N','root':'Rooting Depth','st_conductance':'Stomata Conductance',\n",
    "          'st_density':'Stomata Density','transpiration':'Leaf Transpiration','xylem':'Xylem Hydraulic Vulnerability (P50)'}\n",
    "\n",
    "#Remove nodata and create xylem dataset\n",
    "xyl = fp_try['xylem'][:]\n",
    "x_mask = (mUS & (xyl!=-9999))\n",
    "xyl_us = xyl[x_mask]\n",
    "\n",
    "#Remove nodata and create root dataset\n",
    "r = fp['root'][:]\n",
    "r_mask = (mUS & (r!=-9999))\n",
    "r_us = r[r_mask]\n",
    "\n",
    "\n"
   ]
  }
 ],
 "metadata": {
  "kernelspec": {
   "display_name": "Python 3",
   "language": "python",
   "name": "python3"
  },
  "language_info": {
   "codemirror_mode": {
    "name": "ipython",
    "version": 3
   },
   "file_extension": ".py",
   "mimetype": "text/x-python",
   "name": "python",
   "nbconvert_exporter": "python",
   "pygments_lexer": "ipython3",
   "version": "3.7.3"
  }
 },
 "nbformat": 4,
 "nbformat_minor": 2
}
